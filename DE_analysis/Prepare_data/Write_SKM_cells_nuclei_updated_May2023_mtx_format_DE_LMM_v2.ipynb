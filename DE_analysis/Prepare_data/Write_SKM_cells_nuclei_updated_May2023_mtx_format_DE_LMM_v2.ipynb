{
 "cells": [
  {
   "cell_type": "markdown",
   "metadata": {},
   "source": [
    "## Write cells and nuclei in .mtx format "
   ]
  },
  {
   "cell_type": "markdown",
   "metadata": {},
   "source": [
    "_9 May 2023_"
   ]
  },
  {
   "cell_type": "markdown",
   "metadata": {},
   "source": [
    "## Importing"
   ]
  },
  {
   "cell_type": "markdown",
   "metadata": {},
   "source": [
    "### Modules"
   ]
  },
  {
   "cell_type": "code",
   "execution_count": 1,
   "metadata": {},
   "outputs": [
    {
     "name": "stdout",
     "output_type": "stream",
     "text": [
      "Running Scanpy 1.8.2, on 2023-05-15 00:43.\n"
     ]
    }
   ],
   "source": [
    "import numpy as np\n",
    "import scipy as sp\n",
    "import scanpy as sc\n",
    "import pandas as pd\n",
    "import pickle as pkl\n",
    "import matplotlib.pyplot as plt\n",
    "from matplotlib import rcParams\n",
    "from matplotlib import colors\n",
    "import seaborn as sb\n",
    "from collections import defaultdict\n",
    "from numpy import asarray as ar\n",
    "from collections import Counter\n",
    "\n",
    "#sklearn <- machine learning\n",
    "#statsmodels\n",
    "\n",
    "sc.settings.verbosity = 1\n",
    "sc.logging.print_version_and_date()\n",
    "%load_ext autoreload\n",
    "%autoreload 2"
   ]
  },
  {
   "cell_type": "code",
   "execution_count": 2,
   "metadata": {},
   "outputs": [],
   "source": [
    "from IPython.core.interactiveshell import InteractiveShell\n",
    "\n",
    "InteractiveShell.ast_node_interactivity = \"all\" # to show output from all the lines in a cells"
   ]
  },
  {
   "cell_type": "code",
   "execution_count": 3,
   "metadata": {},
   "outputs": [],
   "source": [
    "pd.set_option('display.max_column',None) # display all the columns in pandas"
   ]
  },
  {
   "cell_type": "code",
   "execution_count": 4,
   "metadata": {},
   "outputs": [],
   "source": [
    "pd.options.display.max_rows = 100"
   ]
  },
  {
   "cell_type": "code",
   "execution_count": 5,
   "metadata": {},
   "outputs": [],
   "source": [
    "from datetime import date\n",
    "today = str(date.today())"
   ]
  },
  {
   "cell_type": "code",
   "execution_count": 6,
   "metadata": {},
   "outputs": [],
   "source": [
    "res_folder = \"/nfs/team205/vk8/processed_data/muscle/forDE_LMM/\""
   ]
  },
  {
   "cell_type": "code",
   "execution_count": 7,
   "metadata": {},
   "outputs": [],
   "source": [
    "import matplotlib\n",
    "from matplotlib import rcParams\n",
    "rcParams['pdf.fonttype'] = 42\n",
    "sc.settings.set_figure_params(dpi = 200, color_map = 'RdPu', dpi_save = 300, vector_friendly = True, format = 'pdf')"
   ]
  },
  {
   "cell_type": "markdown",
   "metadata": {},
   "source": [
    "## Save adata"
   ]
  },
  {
   "cell_type": "code",
   "execution_count": 8,
   "metadata": {},
   "outputs": [],
   "source": [
    "adata = sc.read(\"/nfs/team205/vk8/processed_data/muscle/data_v3/ICM_scell2snuclei_data_2023-05-15.h5ad\")"
   ]
  },
  {
   "cell_type": "code",
   "execution_count": 10,
   "metadata": {},
   "outputs": [],
   "source": [
    "exclude_lev1 = ['CD4+CD8+T-naive', 'Cyc-CD14+Mono', 'Cyc-NK', 'Cyc-T', 'Cyc-cDC2', 'Cyc_B-cell', 'Cyc_Plasma',\n",
    "          'Hyb', 'mural-CXCL1+', 'Vein-Lymph-CD8A+', 'Mϕ_HLAIIhi', 'Eosinophil', 'Mesothelium', 'pDC', 'MF_type-MYH8+', 'MF_type-RASA4+']"
   ]
  },
  {
   "cell_type": "code",
   "execution_count": 11,
   "metadata": {},
   "outputs": [],
   "source": [
    "adata_cells = adata[adata.obs['batch']=='cells',:].copy()\n",
    "adata_nuclei = adata[adata.obs['batch']=='nuclei',:].copy()"
   ]
  },
  {
   "cell_type": "code",
   "execution_count": 14,
   "metadata": {},
   "outputs": [
    {
     "data": {
      "text/plain": [
       "FB                18227\n",
       "MuSC              17554\n",
       "SMC                7994\n",
       "MF-IIsc(fg)        7075\n",
       "MF-Isc(fg)         5205\n",
       "CD4+T              4343\n",
       "CD16+NK            3125\n",
       "CapEC              2982\n",
       "Macrophage         2981\n",
       "VenEC              2707\n",
       "CD8+T              2532\n",
       "Pericyte           2484\n",
       "ArtEC              2463\n",
       "CD14+Mono          2189\n",
       "B-cell             1279\n",
       "cDC2               1074\n",
       "Neutrophil          975\n",
       "EnFB                714\n",
       "LymphEC             687\n",
       "PnFB                547\n",
       "MF_type-RASA4+      510\n",
       "Tenocyte            487\n",
       "mSchwann            486\n",
       "CD16-NK             466\n",
       "CD16+Mono           444\n",
       "Mast                409\n",
       "B-plasma            310\n",
       "Mesothelium         203\n",
       "nmSchwann           150\n",
       "cDC1                119\n",
       "MF_type-MYH8+       106\n",
       "pDC                  39\n",
       "Eosinophil           36\n",
       "Name: annotation_level1, dtype: int64"
      ]
     },
     "execution_count": 14,
     "metadata": {},
     "output_type": "execute_result"
    },
    {
     "data": {
      "text/plain": [
       "MuSCs                   13551\n",
       "Inter_FB                 8627\n",
       "MF_typeII(fg)            6885\n",
       "Par_FB                   5773\n",
       "MF_typeI(fg)             4859\n",
       "Adv_FB                   3827\n",
       "CD4+T                    3227\n",
       "CD16+NK                  3075\n",
       "Mϕ_CD16hi                2561\n",
       "SMC-CCL2+                2344\n",
       "Vein-CCL2+               2336\n",
       "SMC-RAMP1+               2333\n",
       "SMC                      2266\n",
       "CD14+Mono                2126\n",
       "ICAM1+MuSCs              1970\n",
       "TNFRSF12A+MuSCs          1902\n",
       "Arteriole                1708\n",
       "CD8+T-CRTAM+             1572\n",
       "Pericyte                 1469\n",
       "Cap-Ven                  1181\n",
       "Cap                      1162\n",
       "SMC-PC                   1051\n",
       "CD4+CD8+T-naive          1028\n",
       "cDC2                      984\n",
       "CD8+T                     960\n",
       "MatNeu                    906\n",
       "B_naive                   862\n",
       "Cap-CCL2+                 639\n",
       "Perineural_FB             547\n",
       "MF_type-RASA4+            510\n",
       "Tenocyte                  487\n",
       "mSchwann_cell             486\n",
       "CD16-NK                   466\n",
       "Vein-Lymph-CD8A+          466\n",
       "Pericyte-CCL26+           445\n",
       "CD16+Mono                 444\n",
       "Pericyte-CCL2+            430\n",
       "Endoneural_FB-CDH19+      429\n",
       "Mast_cell                 409\n",
       "B_memory                  397\n",
       "Arteriole-CCL2+           383\n",
       "Artery                    372\n",
       "Vein                      371\n",
       "MF_typeI-UCHL1(fg)        298\n",
       "Endoneural_FB-TAC1+       285\n",
       "Mϕ_HLAIIhi                273\n",
       "Lymphatic                 221\n",
       "Mesothelium               203\n",
       "MF_typeII-UCHL1(fg)       190\n",
       "B-plasma                  189\n",
       "nmSchwann_cell            150\n",
       "Mϕ-LAM                    147\n",
       "mural-CXCL1+              140\n",
       "MYOG+MuSCs                131\n",
       "Cyc_Plasma                121\n",
       "cDC1                      119\n",
       "MF_type-MYH8+             106\n",
       "Cyc-cDC2                   90\n",
       "Cyc-CD14+Mono              63\n",
       "CD4+Treg                   56\n",
       "Cyc-NK                     50\n",
       "MF_typeI-TNNT2(fg)         48\n",
       "PreNeu                     45\n",
       "pDC                        39\n",
       "Eosinophil                 36\n",
       "Cyc-T                      32\n",
       "ProNeu                     24\n",
       "Cyc_B-cell                 20\n",
       "Name: annotation_level2, dtype: int64"
      ]
     },
     "execution_count": 14,
     "metadata": {},
     "output_type": "execute_result"
    }
   ],
   "source": [
    "adata_cells.obs['annotation_level1'].value_counts()\n",
    "adata_cells.obs['annotation_level2'].value_counts()\n",
    "#adata_nuclei.obs['annotation_level1'].cat.categories"
   ]
  },
  {
   "cell_type": "code",
   "execution_count": 18,
   "metadata": {},
   "outputs": [
    {
     "data": {
      "text/plain": [
       "MF-I             42052\n",
       "MF-II            28558\n",
       "FB                9698\n",
       "MuSC              2687\n",
       "Macrophage        1742\n",
       "NMJ_accessory     1309\n",
       "MTJ                954\n",
       "MF-Isn(fg)         675\n",
       "Hyb                414\n",
       "CD4+T              412\n",
       "NMJ                406\n",
       "PnFB               387\n",
       "CapEC              379\n",
       "Tenocyte           377\n",
       "Pericyte           313\n",
       "CD14+Mono          305\n",
       "MF-IIsn(fg)        258\n",
       "Mast               222\n",
       "Adipocyte          137\n",
       "CD16+NK            134\n",
       "VenEC              132\n",
       "EnFB               128\n",
       "CD8+T               98\n",
       "cDC2                84\n",
       "LymphEC             82\n",
       "ArtEC               76\n",
       "SMC                 55\n",
       "CD16+Mono           52\n",
       "B-cell              47\n",
       "cDC1                33\n",
       "nmSchwann           33\n",
       "B-plasma            20\n",
       "Name: annotation_level1, dtype: int64"
      ]
     },
     "execution_count": 18,
     "metadata": {},
     "output_type": "execute_result"
    },
    {
     "data": {
      "text/plain": [
       "MF-I                    24380\n",
       "MF-II                   15844\n",
       "I-OTU+TNF+              10586\n",
       "II-OTU+TNF+              9141\n",
       "I-FAM                    7086\n",
       "Inter_FB                 6399\n",
       "II-FAM                   3573\n",
       "MuSCs                    2687\n",
       "Par_FB                   2369\n",
       "Mϕ_CD16hi                1742\n",
       "NMJ_accessory            1309\n",
       "MTJ                       954\n",
       "Adv_FB                    930\n",
       "MF-Isn(fg)                675\n",
       "Hyb                       414\n",
       "NMJ                       406\n",
       "Perineural_FB             387\n",
       "Cap                       379\n",
       "Tenocyte                  377\n",
       "CD4+T                     370\n",
       "Pericyte                  313\n",
       "CD14+Mono                 305\n",
       "MF-IIsn(fg)               258\n",
       "Mast_cell                 222\n",
       "Adipocyte                 137\n",
       "CD16+NK                   134\n",
       "Vein                      132\n",
       "CD8+T                      98\n",
       "cDC2                       84\n",
       "Lymphatic                  82\n",
       "ArtEC                      76\n",
       "Endoneural_FB-TAC1+        70\n",
       "Endoneural_FB-CDH19+       58\n",
       "SMC                        55\n",
       "CD16+Mono                  52\n",
       "B_naive                    47\n",
       "CD4+CD8+T-naive            42\n",
       "cDC1                       33\n",
       "nmSchwann_cell             33\n",
       "B-plasma                   20\n",
       "Name: annotation_level2, dtype: int64"
      ]
     },
     "execution_count": 18,
     "metadata": {},
     "output_type": "execute_result"
    }
   ],
   "source": [
    "adata_nuclei.obs['annotation_level1'].value_counts()\n",
    "adata_nuclei.obs['annotation_level2'].value_counts()\n",
    "#adata_nuclei.obs['annotation_level1'].cat.categories"
   ]
  },
  {
   "cell_type": "code",
   "execution_count": null,
   "metadata": {},
   "outputs": [],
   "source": []
  },
  {
   "cell_type": "markdown",
   "metadata": {},
   "source": [
    "### Save data for the run"
   ]
  },
  {
   "cell_type": "code",
   "execution_count": 15,
   "metadata": {},
   "outputs": [],
   "source": [
    "def save_data_de_lmm (adata_input, path = 'SKM_data', ctype = 'annotation_level0', age_cov = \"Age_group\", \n",
    "                      rm_ctypes = []):\n",
    "    adata = adata_input.copy()\n",
    "    if len(rm_ctypes)>0:\n",
    "        print(adata.shape)\n",
    "        adata = adata[~adata.obs[rm_ctypes[0]].isin(rm_ctypes[1]),:].copy() \n",
    "    import scipy.io as spio\n",
    "    sc.pp.filter_genes(adata, min_cells = 10)\n",
    "    print(adata.shape)\n",
    "    adata.obs.rename(columns = {age_cov:'Age_bin', ctype:'celltype'}, inplace = True)\n",
    "    print(adata.obs.columns)\n",
    "    #/nfs/team205/vk8/processed_data/muscle/forDE_LMM\n",
    "    spio.mmwrite(f\"/nfs/team205/vk8/scripts/de_lmm_natsuhiko/{path}/cpm.mtx\", adata.X)\n",
    "#    with open(f\"/nfs/team205/vk8/scripts/de_lmm_natsuhiko/{path}/cpm.mtx\", \"rb\") as f_in, gzip.open(\"matrix.mtx.gz\", \"wb\") as f_out:\n",
    "#        f_out.writelines(f_in)\n",
    "#    os.remove(f\"/nfs/team205/vk8/scripts/de_lmm_natsuhiko/{path}/cpm.mtx\")\n",
    "    adata.var.to_csv(f\"/nfs/team205/vk8/scripts/de_lmm_natsuhiko/{path}/features.csv\")\n",
    "    adata.obs.to_csv(f\"/nfs/team205/vk8/scripts/de_lmm_natsuhiko/{path}/metadata.csv\")\n",
    "    ctypes = adata.obs['celltype'].cat.categories.tolist()\n",
    "    ctypes_stat_df = pd.DataFrame()\n",
    "    for i in ctypes:\n",
    "        adata_ctype = adata[adata.obs['celltype']==i].copy()\n",
    "        adata_ctype_group1 = adata_ctype[adata_ctype.obs['Age_bin'] == 'young',:]\n",
    "        adata_ctype_group2 = adata_ctype[adata_ctype.obs['Age_bin'] == 'old',:]\n",
    "        n_cells_group1 = adata_ctype_group1.shape[0]\n",
    "        n_cells_group2 = adata_ctype_group2.shape[0]\n",
    "        n_exprs_cells_group1 = (adata_ctype_group1.X>0).sum(0)\n",
    "        n_exprs_cells_group2 = (adata_ctype_group2.X>0).sum(0)\n",
    "        if n_cells_group1 == 0:\n",
    "            prop_group1 = np.nan\n",
    "        else:\n",
    "            prop_group1 = (n_exprs_cells_group1/n_cells_group1).tolist()[0]\n",
    "\n",
    "        if n_cells_group2 == 0:\n",
    "            prop_group2 = np.nan\n",
    "        else:\n",
    "            prop_group2 = (n_exprs_cells_group2/n_cells_group2).tolist()[0]\n",
    "        n_genes = adata_ctype.shape[1]\n",
    "        ctype_1df = pd.DataFrame({'SYMBOL': adata_ctype.var['SYMBOL'].tolist(), \\\n",
    "                  'celltype': np.repeat(i,adata_ctype.shape[1]).tolist(),\\\n",
    "                                 'prop_young': prop_group1,\n",
    "                                 'prop_old': prop_group2,\n",
    "                  'n_cells_young': np.repeat(n_cells_group1,n_genes).tolist(), \\\n",
    "                  'n_cells_old': np.repeat(n_cells_group2,n_genes).tolist()},\\\n",
    "                 index = adata_ctype.var['ENSEMBL'])\n",
    "        ctypes_stat_df = pd.concat([ctypes_stat_df, ctype_1df], axis = 0)\n",
    "\n",
    "    ctypes_stat_df['ENSEMBL'] = ctypes_stat_df.index\n",
    "    ctypes_stat_df.reset_index(inplace=True, drop=True)\n",
    "    ctypes_stat_df.to_csv(f\"/nfs/team205/vk8/scripts/de_lmm_natsuhiko/results_all/{path}_prop_stat.csv\", index = False)"
   ]
  },
  {
   "cell_type": "code",
   "execution_count": 16,
   "metadata": {},
   "outputs": [
    {
     "name": "stdout",
     "output_type": "stream",
     "text": [
      "(90902, 33538)\n",
      "(87725, 23176)\n",
      "Index(['SampleID', 'barcode', 'concat_sample_no', 'DonorID', 'Sex', 'Age',\n",
      "       'Species', 'Operator', 'Sample', '10X_version', 'n_counts',\n",
      "       'n_counts_raw', 'percent_soup', 'n_counts_spliced',\n",
      "       'n_counts_unspliced', 'percent_spliced', 'n_genes', 'percent_mito',\n",
      "       'percent_ribo', 'percent_hb', 'Age_bin', 'scrublet_score',\n",
      "       'scrublet_cluster_score', 'bh_pval', 'is_doublet', 'S_score',\n",
      "       'G2M_score', 'phase', 'annotation_level0', 'celltype',\n",
      "       'annotation_level2', 'batch', 'Donor_type', 'BMI', 'Ventilation_cat',\n",
      "       'BMI_num'],\n",
      "      dtype='object')\n"
     ]
    }
   ],
   "source": [
    "save_data_de_lmm (adata_cells, path = 'DE_human_scell_coarse_v3_2023May', ctype = 'annotation_level1', age_cov = \"Age_group\", \n",
    "                      rm_ctypes = ['annotation_level2', ['CD4+CD8+T-naive', 'Cyc-CD14+Mono', 'Cyc-NK', 'Cyc-T', 'Cyc-cDC2', 'Cyc_B-cell', 'Cyc_Plasma',\n",
    "                                                         'Hyb', 'mural-CXCL1+', 'Vein-Lymph-CD8A+', 'Mϕ_HLAIIhi', 'Eosinophil', 'Mesothelium', 'pDC','MF_type-MYH8+', 'MF_type-RASA4+']])"
   ]
  },
  {
   "cell_type": "code",
   "execution_count": 17,
   "metadata": {},
   "outputs": [
    {
     "name": "stdout",
     "output_type": "stream",
     "text": [
      "(90902, 23419)\n",
      "Index(['SampleID', 'barcode', 'concat_sample_no', 'DonorID', 'Sex', 'Age',\n",
      "       'Species', 'Operator', 'Sample', '10X_version', 'n_counts',\n",
      "       'n_counts_raw', 'percent_soup', 'n_counts_spliced',\n",
      "       'n_counts_unspliced', 'percent_spliced', 'n_genes', 'percent_mito',\n",
      "       'percent_ribo', 'percent_hb', 'Age_bin', 'scrublet_score',\n",
      "       'scrublet_cluster_score', 'bh_pval', 'is_doublet', 'S_score',\n",
      "       'G2M_score', 'phase', 'annotation_level0', 'annotation_level1',\n",
      "       'celltype', 'batch', 'Donor_type', 'BMI', 'Ventilation_cat', 'BMI_num'],\n",
      "      dtype='object')\n"
     ]
    }
   ],
   "source": [
    "save_data_de_lmm (adata_cells, path = 'DE_human_scell_granular_v3_2023May', ctype = 'annotation_level2', age_cov = \"Age_group\")"
   ]
  },
  {
   "cell_type": "code",
   "execution_count": 15,
   "metadata": {},
   "outputs": [
    {
     "name": "stdout",
     "output_type": "stream",
     "text": [
      "(92259, 33538)\n",
      "(92135, 25624)\n",
      "Index(['SampleID', 'barcode', 'concat_sample_no', 'DonorID', 'Sex', 'Age',\n",
      "       'Species', 'Operator', 'Sample', '10X_version', 'n_counts',\n",
      "       'n_counts_raw', 'percent_soup', 'n_counts_spliced',\n",
      "       'n_counts_unspliced', 'percent_spliced', 'n_genes', 'percent_mito',\n",
      "       'percent_ribo', 'percent_hb', 'Age_bin', 'scrublet_score',\n",
      "       'scrublet_cluster_score', 'bh_pval', 'is_doublet', 'S_score',\n",
      "       'G2M_score', 'phase', 'annotation_level0', 'celltype',\n",
      "       'annotation_level2', 'batch', 'Donor_type', 'BMI', 'Ventilation_cat',\n",
      "       'BMI_num'],\n",
      "      dtype='object')\n"
     ]
    }
   ],
   "source": [
    "save_data_de_lmm (adata_nuclei, path = 'DE_human_snuclei_coarse_v2.1_2023May', ctype = 'annotation_level1', age_cov = \"Age_group\", \n",
    "                      rm_ctypes = ['annotation_level2', ['CD4+CD8+T-naive', 'Cyc-CD14+Mono', 'Cyc-NK', 'Cyc-T', 'Cyc-cDC2', 'Cyc_B-cell', 'Cyc_Plasma',\n",
    "          'mural-CXCL1+', 'Vein-Lymph-CD8A+', 'Mϕ_HLAIIhi', 'Eosinophil', 'Mesothelium', 'pDC',\n",
    "          'Lymphatic', 'MF_type-MYH8+', 'MF_type-RASA4+']])"
   ]
  },
  {
   "cell_type": "code",
   "execution_count": 16,
   "metadata": {},
   "outputs": [
    {
     "name": "stdout",
     "output_type": "stream",
     "text": [
      "(92259, 25635)\n",
      "Index(['SampleID', 'barcode', 'concat_sample_no', 'DonorID', 'Sex', 'Age',\n",
      "       'Species', 'Operator', 'Sample', '10X_version', 'n_counts',\n",
      "       'n_counts_raw', 'percent_soup', 'n_counts_spliced',\n",
      "       'n_counts_unspliced', 'percent_spliced', 'n_genes', 'percent_mito',\n",
      "       'percent_ribo', 'percent_hb', 'Age_bin', 'scrublet_score',\n",
      "       'scrublet_cluster_score', 'bh_pval', 'is_doublet', 'S_score',\n",
      "       'G2M_score', 'phase', 'annotation_level0', 'annotation_level1',\n",
      "       'celltype', 'batch', 'Donor_type', 'BMI', 'Ventilation_cat', 'BMI_num'],\n",
      "      dtype='object')\n"
     ]
    }
   ],
   "source": [
    "save_data_de_lmm (adata_nuclei, path = 'DE_human_snuclei_granular_v2_2023May', ctype = 'annotation_level2', age_cov = \"Age_group\")"
   ]
  },
  {
   "cell_type": "code",
   "execution_count": null,
   "metadata": {},
   "outputs": [],
   "source": []
  },
  {
   "cell_type": "code",
   "execution_count": 15,
   "metadata": {
    "scrolled": true
   },
   "outputs": [
    {
     "name": "stdout",
     "output_type": "stream",
     "text": [
      "(90661, 33538)\n",
      "(87484, 23154)\n",
      "Index(['SampleID', 'barcode', 'concat_sample_no', 'DonorID', 'Sex', 'Age',\n",
      "       'Species', 'Operator', 'Sample', '10X_version', 'n_counts',\n",
      "       'n_counts_raw', 'percent_soup', 'n_counts_spliced',\n",
      "       'n_counts_unspliced', 'percent_spliced', 'n_genes', 'percent_mito',\n",
      "       'percent_ribo', 'percent_hb', 'Age_bin', 'scrublet_score',\n",
      "       'scrublet_cluster_score', 'bh_pval', 'is_doublet', 'S_score',\n",
      "       'G2M_score', 'phase', 'annotation_level0', 'celltype',\n",
      "       'annotation_level2', 'batch', 'Donor_type', 'BMI', 'Ventilation_cat',\n",
      "       'BMI_num'],\n",
      "      dtype='object')\n"
     ]
    }
   ],
   "source": [
    "save_data_de_lmm (adata_cells, path = 'DE_human_scell_coarse_v2.1_2023May', ctype = 'annotation_level1', age_cov = \"Age_group\", \n",
    "                      rm_ctypes = ['annotation_level2', ['CD4+CD8+T-naive', 'Cyc-CD14+Mono', 'Cyc-NK', 'Cyc-T', 'Cyc-cDC2', 'Cyc_B-cell', 'Cyc_Plasma',\n",
    "                                                         'Hyb', 'mural-CXCL1+', 'Vein-Lymph-CD8A+', 'Mϕ_HLAIIhi', 'Eosinophil', 'Mesothelium', 'pDC',\n",
    "                                                         'Lymphatic', 'MF_type-MYH8+', 'MF_type-RASA4+']])"
   ]
  },
  {
   "cell_type": "code",
   "execution_count": 16,
   "metadata": {},
   "outputs": [
    {
     "name": "stdout",
     "output_type": "stream",
     "text": [
      "(92259, 33538)\n",
      "(92135, 25624)\n",
      "Index(['SampleID', 'barcode', 'concat_sample_no', 'DonorID', 'Sex', 'Age',\n",
      "       'Species', 'Operator', 'Sample', '10X_version', 'n_counts',\n",
      "       'n_counts_raw', 'percent_soup', 'n_counts_spliced',\n",
      "       'n_counts_unspliced', 'percent_spliced', 'n_genes', 'percent_mito',\n",
      "       'percent_ribo', 'percent_hb', 'Age_bin', 'scrublet_score',\n",
      "       'scrublet_cluster_score', 'bh_pval', 'is_doublet', 'S_score',\n",
      "       'G2M_score', 'phase', 'annotation_level0', 'celltype',\n",
      "       'annotation_level2', 'batch', 'Donor_type', 'BMI', 'Ventilation_cat',\n",
      "       'BMI_num'],\n",
      "      dtype='object')\n"
     ]
    }
   ],
   "source": [
    "save_data_de_lmm (adata_nuclei, path = 'DE_human_snuclei_coarse_v2.1_2023May', ctype = 'annotation_level1', age_cov = \"Age_group\", \n",
    "                      rm_ctypes = ['annotation_level2', ['CD4+CD8+T-naive', 'Cyc-CD14+Mono', 'Cyc-NK', 'Cyc-T', 'Cyc-cDC2', 'Cyc_B-cell', 'Cyc_Plasma',\n",
    "          'mural-CXCL1+', 'Vein-Lymph-CD8A+', 'Mϕ_HLAIIhi', 'Eosinophil', 'Mesothelium', 'pDC',\n",
    "          'Lymphatic', 'MF_type-MYH8+', 'MF_type-RASA4+']])"
   ]
  },
  {
   "cell_type": "code",
   "execution_count": null,
   "metadata": {},
   "outputs": [],
   "source": []
  }
 ],
 "metadata": {
  "kernelspec": {
   "display_name": "Python [conda env:miniconda-scvi-env]",
   "language": "python",
   "name": "conda-env-miniconda-scvi-env-py"
  },
  "language_info": {
   "codemirror_mode": {
    "name": "ipython",
    "version": 3
   },
   "file_extension": ".py",
   "mimetype": "text/x-python",
   "name": "python",
   "nbconvert_exporter": "python",
   "pygments_lexer": "ipython3",
   "version": "3.7.12"
  }
 },
 "nbformat": 4,
 "nbformat_minor": 4
}
