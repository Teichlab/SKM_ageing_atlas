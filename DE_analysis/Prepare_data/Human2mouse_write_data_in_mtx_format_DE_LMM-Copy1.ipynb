{
 "cells": [
  {
   "cell_type": "markdown",
   "metadata": {},
   "source": [
    "## Write out data in .mtx format "
   ]
  },
  {
   "cell_type": "markdown",
   "metadata": {},
   "source": [
    "_24 August 2021_"
   ]
  },
  {
   "cell_type": "markdown",
   "metadata": {},
   "source": [
    "## Importing"
   ]
  },
  {
   "cell_type": "markdown",
   "metadata": {},
   "source": [
    "### Modules"
   ]
  },
  {
   "cell_type": "code",
   "execution_count": 1,
   "metadata": {},
   "outputs": [
    {
     "name": "stdout",
     "output_type": "stream",
     "text": [
      "Running Scanpy 1.8.1, on 2021-11-28 15:42.\n"
     ]
    }
   ],
   "source": [
    "import numpy as np\n",
    "import scipy as sp\n",
    "import scanpy as sc\n",
    "import pandas as pd\n",
    "import pickle as pkl\n",
    "import matplotlib.pyplot as plt\n",
    "from matplotlib import rcParams\n",
    "from matplotlib import colors\n",
    "import seaborn as sb\n",
    "from collections import defaultdict\n",
    "from numpy import asarray as ar\n",
    "from collections import Counter\n",
    "\n",
    "#sklearn <- machine learning\n",
    "#statsmodels\n",
    "\n",
    "sc.settings.verbosity = 1\n",
    "sc.logging.print_version_and_date()\n",
    "%load_ext autoreload\n",
    "%autoreload 2"
   ]
  },
  {
   "cell_type": "code",
   "execution_count": 2,
   "metadata": {},
   "outputs": [],
   "source": [
    "from IPython.core.interactiveshell import InteractiveShell\n",
    "\n",
    "InteractiveShell.ast_node_interactivity = \"all\" # to show output from all the lines in a cells"
   ]
  },
  {
   "cell_type": "code",
   "execution_count": 3,
   "metadata": {},
   "outputs": [],
   "source": [
    "pd.set_option('display.max_column',None) # display all the columns in pandas"
   ]
  },
  {
   "cell_type": "code",
   "execution_count": 4,
   "metadata": {},
   "outputs": [],
   "source": [
    "pd.options.display.max_rows = 100"
   ]
  },
  {
   "cell_type": "code",
   "execution_count": 5,
   "metadata": {},
   "outputs": [],
   "source": [
    "from datetime import date\n",
    "today = str(date.today())"
   ]
  },
  {
   "cell_type": "code",
   "execution_count": 6,
   "metadata": {},
   "outputs": [],
   "source": [
    "res_folder = \"/nfs/team205/vk8/processed_data/muscle/forDE_LMM/\""
   ]
  },
  {
   "cell_type": "markdown",
   "metadata": {},
   "source": [
    "## Save human2mouse data"
   ]
  },
  {
   "cell_type": "code",
   "execution_count": 7,
   "metadata": {},
   "outputs": [],
   "source": [
    "adata = sc.read(\"/nfs/team205/vk8/processed_data/muscle/data_v3/SKM_human2mouse_integration_v6.0_2021-10-19.h5ad\")"
   ]
  },
  {
   "cell_type": "code",
   "execution_count": 14,
   "metadata": {},
   "outputs": [
    {
     "data": {
      "text/plain": [
       "Index(['Giordani_Molc_Cell', 'Li_EMBO_Journal', 'Micheli_Skeletal_Muscle',\n",
       "       'Rubenstein_SR', 'Sanger_Zhang', 'Sanger_Zhang_human', 'Tabula_Muris',\n",
       "       'elife'],\n",
       "      dtype='object')"
      ]
     },
     "execution_count": 14,
     "metadata": {},
     "output_type": "execute_result"
    }
   ],
   "source": [
    "adata.obs['Source'].cat.categories"
   ]
  },
  {
   "cell_type": "code",
   "execution_count": 15,
   "metadata": {},
   "outputs": [],
   "source": [
    "adata.obs['Species_annotation'] = adata.obs['Species_annotation'].astype(str)"
   ]
  },
  {
   "cell_type": "code",
   "execution_count": 16,
   "metadata": {},
   "outputs": [],
   "source": [
    "adata.obs.loc[adata.obs['Species_annotation'] == 'human-MF-IIfg', 'Species_annotation'] = 'human-MF_IIfg'\n",
    "adata.obs.loc[adata.obs['Species_annotation'] == 'human-MF_Ifg', 'Species_annotation'] = 'human-MF_Ifg'\n",
    "adata.obs.loc[adata.obs['Species_annotation'] == 'mouse-MF-IIfg', 'Species_annotation'] = 'mouse-MF_IIfg'"
   ]
  },
  {
   "cell_type": "code",
   "execution_count": 17,
   "metadata": {},
   "outputs": [],
   "source": [
    "cell_type_anno = adata.obs['Species_annotation'].str.split(\"-\", n=1, expand = True)"
   ]
  },
  {
   "cell_type": "code",
   "execution_count": 18,
   "metadata": {},
   "outputs": [],
   "source": [
    "adata.obs['celltype'] = cell_type_anno[1]"
   ]
  },
  {
   "cell_type": "markdown",
   "metadata": {},
   "source": [
    "### Normalize and log-tramsform data"
   ]
  },
  {
   "cell_type": "code",
   "execution_count": 19,
   "metadata": {},
   "outputs": [
    {
     "data": {
      "text/plain": [
       "(346271, 11232)"
      ]
     },
     "execution_count": 19,
     "metadata": {},
     "output_type": "execute_result"
    }
   ],
   "source": [
    "adata.shape"
   ]
  },
  {
   "cell_type": "code",
   "execution_count": 15,
   "metadata": {},
   "outputs": [],
   "source": [
    "sc.pp.normalize_per_cell(adata, counts_per_cell_after = 1e4)\n",
    "sc.pp.log1p(adata)"
   ]
  },
  {
   "cell_type": "code",
   "execution_count": 16,
   "metadata": {},
   "outputs": [],
   "source": [
    "import scipy.io as spio\n",
    "\n",
    "spio.mmwrite(\"/nfs/team205/vk8/processed_data/muscle/forDE_LMM/SKM_human2mouse_raw_log_norm_\"+today+\".mtx\", adata.X)\n",
    "\n",
    "adata.obs.to_csv(\"/nfs/team205/vk8/processed_data/muscle/forDE_LMM/SKM_human2mouse_raw_metadata_\"+today+\".csv\")\n",
    "adata.var.to_csv(\"/nfs/team205/vk8/processed_data/muscle/forDE_LMM/SKM_human2mouse_raw_features_\"+today+\".csv\")"
   ]
  },
  {
   "cell_type": "markdown",
   "metadata": {},
   "source": [
    "sp_matrix=spio.mmread(\"/nfs/team205/vk8/processed_data/muscle/forDE_LMM/SKM_human2mouse_raw_log_norm_2021-10-24.mtx\")\n",
    "\n",
    "obs = pd.read_csv(\"/nfs/team205/vk8/processed_data/muscle/forDE_LMM/SKM_human2mouse_raw_metadata_.csv\", index_col = 0)\n",
    "var = pd.read_csv(\"/nfs/team205/vk8/processed_data/muscle/forDE_LMM/SKM_human2mouse_raw_features_.csv\", index_col = 0)"
   ]
  },
  {
   "cell_type": "markdown",
   "metadata": {},
   "source": [
    "# Save human data seperately "
   ]
  },
  {
   "cell_type": "code",
   "execution_count": 20,
   "metadata": {},
   "outputs": [],
   "source": [
    "adata_human = adata[adata.obs['Species'] == \"human\",:].copy()"
   ]
  },
  {
   "cell_type": "code",
   "execution_count": 21,
   "metadata": {
    "scrolled": true
   },
   "outputs": [
    {
     "data": {
      "text/plain": [
       "(219893, 11232)"
      ]
     },
     "execution_count": 21,
     "metadata": {},
     "output_type": "execute_result"
    }
   ],
   "source": [
    "adata_human.shape"
   ]
  },
  {
   "cell_type": "code",
   "execution_count": 22,
   "metadata": {},
   "outputs": [
    {
     "data": {
      "text/plain": [
       "['human']\n",
       "Categories (1, object): ['human']"
      ]
     },
     "execution_count": 22,
     "metadata": {},
     "output_type": "execute_result"
    }
   ],
   "source": [
    "adata_human.obs['Species'].unique()"
   ]
  },
  {
   "cell_type": "code",
   "execution_count": 19,
   "metadata": {},
   "outputs": [],
   "source": [
    "spio.mmwrite(f\"{res_folder}SKM_human_cells_broad_anno_raw_log_norm_\"+today+\".mtx\", adata_human.X)\n",
    "\n",
    "adata_human.obs.to_csv(f\"{res_folder}SKM_human_cells_broad_anno_raw_metadata_\"+today+\".csv\")\n",
    "adata_human.var.to_csv(f\"{res_folder}SKM_human_cells_broad_anno_raw_features_\"+today+\".csv\")"
   ]
  },
  {
   "cell_type": "markdown",
   "metadata": {},
   "source": [
    "# Save mouse data seperately "
   ]
  },
  {
   "cell_type": "code",
   "execution_count": 23,
   "metadata": {},
   "outputs": [],
   "source": [
    "adata_mouse = adata[adata.obs['Species'] == \"mouse\",:].copy()"
   ]
  },
  {
   "cell_type": "code",
   "execution_count": 25,
   "metadata": {
    "scrolled": true
   },
   "outputs": [
    {
     "data": {
      "text/plain": [
       "(126378, 11232)"
      ]
     },
     "execution_count": 25,
     "metadata": {},
     "output_type": "execute_result"
    }
   ],
   "source": [
    "adata_mouse.shape"
   ]
  },
  {
   "cell_type": "code",
   "execution_count": 24,
   "metadata": {},
   "outputs": [
    {
     "data": {
      "text/plain": [
       "['mouse']\n",
       "Categories (1, object): ['mouse']"
      ]
     },
     "execution_count": 24,
     "metadata": {},
     "output_type": "execute_result"
    }
   ],
   "source": [
    "adata_mouse.obs['Species'].unique()"
   ]
  },
  {
   "cell_type": "code",
   "execution_count": 20,
   "metadata": {},
   "outputs": [],
   "source": [
    "spio.mmwrite(f\"{res_folder}SKM_mouse_cells_broad_anno_raw_log_norm_\"+today+\".mtx\", adata_mouse.X)\n",
    "\n",
    "adata_mouse.obs.to_csv(f\"{res_folder}SKM_mouse_cells_broad_anno_raw_metadata_\"+today+\".csv\")\n",
    "adata_mouse.var.to_csv(f\"{res_folder}SKM_mouse_cells_broad_anno_raw_features_\"+today+\".csv\")"
   ]
  },
  {
   "cell_type": "code",
   "execution_count": null,
   "metadata": {},
   "outputs": [],
   "source": []
  },
  {
   "cell_type": "markdown",
   "metadata": {},
   "source": [
    "# Save human nuclei data (granular annotation)"
   ]
  },
  {
   "cell_type": "code",
   "execution_count": 7,
   "metadata": {},
   "outputs": [],
   "source": [
    "adata_nuclei = sc.read(\"/nfs/team205/vk8/processed_data/muscle/data_v3/SKM_nuclei_anno_filt_raw_cbender2021-09-01.h5ad\")"
   ]
  },
  {
   "cell_type": "code",
   "execution_count": 15,
   "metadata": {},
   "outputs": [],
   "source": [
    "adata_nuclei.obs['celltype'] = adata_nuclei.obs['cell_type(nuclei)_level1']"
   ]
  },
  {
   "cell_type": "code",
   "execution_count": 17,
   "metadata": {},
   "outputs": [],
   "source": [
    "sc.pp.normalize_per_cell(adata_nuclei, counts_per_cell_after = 1e4)\n",
    "sc.pp.log1p(adata_nuclei)"
   ]
  },
  {
   "cell_type": "code",
   "execution_count": 18,
   "metadata": {},
   "outputs": [
    {
     "data": {
      "text/plain": [
       "array([1.4811257, 1.4811257, 1.4811257, ..., 1.4000249, 1.4000249,\n",
       "       2.3190393], dtype=float32)"
      ]
     },
     "execution_count": 18,
     "metadata": {},
     "output_type": "execute_result"
    }
   ],
   "source": [
    "adata_nuclei.X.data"
   ]
  },
  {
   "cell_type": "code",
   "execution_count": 20,
   "metadata": {},
   "outputs": [],
   "source": [
    "import scipy.io as spio\n",
    "spio.mmwrite(f\"{res_folder}SKM_human_nuclei_nuclei_level1_anno_raw_log_norm_\"+today+\".mtx\", adata_nuclei.X)\n",
    "\n",
    "adata_nuclei.obs.to_csv(f\"{res_folder}SKM_human_nuclei_nuclei_level1_anno_raw_metadata_\"+today+\".csv\")\n",
    "adata_nuclei.var.to_csv(f\"{res_folder}SKM_human_nuclei_nuclei_level1_anno_raw_features_\"+today+\".csv\")"
   ]
  },
  {
   "cell_type": "markdown",
   "metadata": {},
   "source": [
    "# Save scvi human nuclei data (granular annotation)"
   ]
  },
  {
   "cell_type": "code",
   "execution_count": 7,
   "metadata": {},
   "outputs": [],
   "source": [
    "adata_nuclei = sc.read('/nfs/team205/vk8/processed_data/muscle/data_v3/SKM_myonuclei_re-anno_cleaned_scvi_2021-10-31.h5ad')"
   ]
  },
  {
   "cell_type": "code",
   "execution_count": 16,
   "metadata": {},
   "outputs": [],
   "source": [
    "adata_nuclei.obs['celltype'] = adata_nuclei.obs['cell_type(myonuclei)_level1']"
   ]
  },
  {
   "cell_type": "code",
   "execution_count": 17,
   "metadata": {},
   "outputs": [
    {
     "data": {
      "text/plain": [
       "Index(['MF_typeI', 'MF_typeII', 'MF_typeI(cytoplasmic)',\n",
       "       'MF_typeII(cytoplasmic)', 'MF_typeI-II(hybrid)', 'MF_typeI-FAM189A2',\n",
       "       'MF_typeII-FAM189A2', 'MF_typeI-OTUD1', 'MF_typeII-OTUD1',\n",
       "       'MF_typeII-TNFRSF12A-high', 'NMJ', 'MTJ', 'MF_type-SORBS2'],\n",
       "      dtype='object')"
      ]
     },
     "execution_count": 17,
     "metadata": {},
     "output_type": "execute_result"
    }
   ],
   "source": [
    "adata_nuclei.obs['celltype'].cat.categories"
   ]
  },
  {
   "cell_type": "markdown",
   "metadata": {},
   "source": [
    "adata_nuclei.obs.to_csv(f\"{res_folder}SKM_human_nuclei_nuclei_level1_anno_raw_metadata_2021-11-12.csv\")"
   ]
  },
  {
   "cell_type": "code",
   "execution_count": 16,
   "metadata": {},
   "outputs": [],
   "source": [
    "import scipy.io as spio\n",
    "spio.mmwrite(f\"{res_folder}SKM_human_nuclei_nuclei_level1_anno_raw_log_norm_\"+today+\".mtx\", adata_nuclei.X)\n",
    "\n",
    "adata_nuclei.obs.to_csv(f\"{res_folder}SKM_human_nuclei_nuclei_level1_anno_raw_metadata_\"+today+\".csv\")\n",
    "adata_nuclei.var.to_csv(f\"{res_folder}SKM_human_nuclei_nuclei_level1_anno_raw_features_\"+today+\".csv\")"
   ]
  },
  {
   "cell_type": "markdown",
   "metadata": {},
   "source": [
    "# Save scvi human nuclei data (broad annotation)"
   ]
  },
  {
   "cell_type": "code",
   "execution_count": 7,
   "metadata": {},
   "outputs": [],
   "source": [
    "adata_nuclei = sc.read('/nfs/team205/vk8/processed_data/muscle/data_v3/SKM_myonuclei_re-anno_cleaned_scvi_2021-10-31.h5ad')"
   ]
  },
  {
   "cell_type": "code",
   "execution_count": 8,
   "metadata": {},
   "outputs": [
    {
     "data": {
      "text/plain": [
       "Index(['Hybrid', 'MF_type-NCAM1', 'MF_type-SORBS2', 'MTJ', 'Myofiber_typeI',\n",
       "       'Myofiber_typeII', 'NMJ', 'high_mito'],\n",
       "      dtype='object')"
      ]
     },
     "execution_count": 8,
     "metadata": {},
     "output_type": "execute_result"
    }
   ],
   "source": [
    "adata_nuclei.obs['cell_type(nuclei)_level0'].cat.categories"
   ]
  },
  {
   "cell_type": "code",
   "execution_count": 13,
   "metadata": {},
   "outputs": [],
   "source": [
    "adata_nuclei.obs['celltype'] = adata_nuclei.obs['cell_type(myonuclei)_level0']"
   ]
  },
  {
   "cell_type": "markdown",
   "metadata": {},
   "source": [
    "adata_nuclei.obs.to_csv(f\"{res_folder}SKM_human_nuclei_nuclei_level0_anno_raw_metadata_\"+today+\".csv\")"
   ]
  },
  {
   "cell_type": "code",
   "execution_count": 11,
   "metadata": {},
   "outputs": [],
   "source": [
    "import scipy.io as spio\n",
    "spio.mmwrite(f\"{res_folder}SKM_human_nuclei_nuclei_level0_anno_raw_log_norm_\"+today+\".mtx\", adata_nuclei.X)\n",
    "\n",
    "adata_nuclei.obs.to_csv(f\"{res_folder}SKM_human_nuclei_nuclei_level0_anno_raw_metadata_\"+today+\".csv\")\n",
    "adata_nuclei.var.to_csv(f\"{res_folder}SKM_human_nuclei_nuclei_level0_anno_raw_features_\"+today+\".csv\")"
   ]
  },
  {
   "cell_type": "code",
   "execution_count": null,
   "metadata": {},
   "outputs": [],
   "source": []
  }
 ],
 "metadata": {
  "kernelspec": {
   "display_name": "Python [conda env:cell2loc]",
   "language": "python",
   "name": "conda-env-cell2loc-py"
  },
  "language_info": {
   "codemirror_mode": {
    "name": "ipython",
    "version": 3
   },
   "file_extension": ".py",
   "mimetype": "text/x-python",
   "name": "python",
   "nbconvert_exporter": "python",
   "pygments_lexer": "ipython3",
   "version": "3.9.7"
  }
 },
 "nbformat": 4,
 "nbformat_minor": 4
}
